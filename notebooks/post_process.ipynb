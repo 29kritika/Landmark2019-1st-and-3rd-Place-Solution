{
 "cells": [
  {
   "cell_type": "code",
   "execution_count": 2,
   "metadata": {
    "ExecuteTime": {
     "end_time": "2019-05-01T10:45:07.846554Z",
     "start_time": "2019-05-01T10:45:05.195720Z"
    }
   },
   "outputs": [],
   "source": [
    "import argparse\n",
    "import faiss\n",
    "import numpy as np\n",
    "import pandas as pd\n",
    "import h5py\n",
    "import torch\n",
    "import os\n",
    "import subprocess\n",
    "import cirtorch\n",
    "from src import utils\n",
    "from sklearn.decomposition import PCA\n",
    "\n",
    "\n",
    "parser = argparse.ArgumentParser()\n",
    "parser.add_argument('filename', help='feature files')\n",
    "parser.add_argument('-d', '--devices', default='0', help='gpu device indexes')\n",
    "args = parser.parse_args(args=['../experiments/v7/feats_ms_flip_M_ep4_batch_size-32_epochs-5_pooling-G,G,G,G.h5', '-d', '4'])\n",
    "\n",
    "file_name = args.filename\n",
    "setting = file_name.split('/')[-1].replace('.h5', '')\n",
    "os.environ['CUDA_VISIBLE_DEVICES'] = args.devices\n",
    "topk = 100\n",
    "\n",
    "with h5py.File(file_name, 'r') as f:\n",
    "    ids_index = f['ids_index'][()].astype(str)\n",
    "    feats_index = f['feats_index'][()]\n",
    "    ids_test = f['ids_test'][()].astype(str)\n",
    "    feats_test = f['feats_test'][()]\n",
    "\n",
    "subm = pd.read_csv('../input/retrieval_sample_submission.csv')[['id']]\n",
    "retrieval_result = pd.DataFrame(ids_test, columns=['id'])"
   ]
  },
  {
   "cell_type": "code",
   "execution_count": 3,
   "metadata": {
    "ExecuteTime": {
     "end_time": "2019-05-01T10:45:41.618931Z",
     "start_time": "2019-05-01T10:45:35.115149Z"
    }
   },
   "outputs": [],
   "source": [
    "import os; os.environ['CUDA_VISIBLE_DEVICES'] = \"2\"\n",
    "import torch\n",
    "import numpy as np\n",
    "from sklearn.decomposition import PCA\n",
    "\n",
    "m = feats_index.mean(axis=0)\n",
    "\n",
    "centered_feats_index = feats_index - m\n",
    "centered_feats_test = feats_test - m\n",
    "\n",
    "cov = centered_feats_index.transpose() @ centered_feats_index\n",
    "cov /= centered_feats_index.shape[0]\n",
    "\n",
    "s, u = np.linalg.eig(cov)\n",
    "\n",
    "order = s.argsort()[::-1]\n",
    "s = s[order] + 1e-16\n",
    "u = u[order]\n",
    "\n",
    "p = np.diag(s ** -0.5) @ u\n",
    "\n",
    "whitened_feats_index = centered_feats_index @ p.transpose()\n",
    "whitened_feats_test = centered_feats_test @ p.transpose()"
   ]
  },
  {
   "cell_type": "code",
   "execution_count": 6,
   "metadata": {
    "ExecuteTime": {
     "end_time": "2019-05-01T10:46:02.899200Z",
     "start_time": "2019-05-01T10:46:02.746622Z"
    }
   },
   "outputs": [
    {
     "data": {
      "image/png": "[encoded data removed]",
      "text/plain": [
       "<Figure size 432x288 with 1 Axes>"
      ]
     },
     "metadata": {
      "needs_background": "light"
     },
     "output_type": "display_data"
    }
   ],
   "source": [
    "import matplotlib.pyplot as plt\n",
    "plt.title('cumulative contribution ratio')\n",
    "plt.plot(s.cumsum());"
   ]
  },
  {
   "cell_type": "code",
   "execution_count": 8,
   "metadata": {
    "ExecuteTime": {
     "end_time": "2019-05-01T10:46:31.735736Z",
     "start_time": "2019-05-01T10:46:27.145226Z"
    }
   },
   "outputs": [],
   "source": [
    "# pca_dim = 256\n",
    "# whitened_feats_index = whitened_feats_index[:, :pca_dim]\n",
    "# whitened_feats_test = whitened_feats_test[:, :pca_dim]\n",
    "\n",
    "feats_index = utils.l2norm_numpy(whitened_feats_index.astype(np.float32))\n",
    "feats_test = utils.l2norm_numpy(whitened_feats_test.astype(np.float32))"
   ]
  },
  {
   "cell_type": "code",
   "execution_count": 9,
   "metadata": {
    "ExecuteTime": {
     "end_time": "2019-05-01T11:03:39.510865Z",
     "start_time": "2019-05-01T10:47:49.642679Z"
    }
   },
   "outputs": [
    {
     "name": "stdout",
     "output_type": "stream",
     "text": [
      "query search done.\n",
      "saved to ../output/wPCA-fulldimension-512_feats_ms_flip_M_ep4_batch_size-32_epochs-5_pooling-G,G,G,G.csv.gz\n",
      "kaggle c submit -c landmark-retrieval-2019 -f ../output/wPCA-fulldimension-512_feats_ms_flip_M_ep4_batch_size-32_epochs-5_pooling-G,G,G,G.csv.gz -m \"\" \n"
     ]
    },
    {
     "data": {
      "text/plain": [
       "CompletedProcess(args='kaggle c submit -c landmark-retrieval-2019 -f ../output/wPCA-fulldimension-512_feats_ms_flip_M_ep4_batch_size-32_epochs-5_pooling-G,G,G,G.csv.gz -m \"\" ', returncode=0)"
      ]
     },
     "execution_count": 9,
     "metadata": {},
     "output_type": "execute_result"
    }
   ],
   "source": [
    "gpu_index = faiss.IndexFlatL2(feats_index.shape[1])\n",
    "# gpu_index = faiss.index_cpu_to_all_gpus(cpu_index)\n",
    "gpu_index.add(feats_index)\n",
    "dists, topk_idx = gpu_index.search(x=feats_test, k=100)\n",
    "print('query search done.')\n",
    "\n",
    "retrieval_result['images'] = np.apply_along_axis(' '.join, axis=1, arr=ids_index[topk_idx])\n",
    "subm = subm.merge(retrieval_result, on='id', how='left')\n",
    "subm = subm.fillna(retrieval_result['images'].iloc[0])\n",
    "output_name = f'../output/wPCA-fulldimension-512_{setting}.csv.gz'\n",
    "subm.to_csv(output_name, compression='gzip', index=False)\n",
    "print('saved to ' + output_name)\n",
    "\n",
    "cmd = f'kaggle c submit -c landmark-retrieval-2019 -f {output_name} -m \"\" '\n",
    "print(cmd)\n",
    "subprocess.run(cmd, shell=True)"
   ]
  },
  {
   "cell_type": "code",
   "execution_count": null,
   "metadata": {},
   "outputs": [],
   "source": []
  },
  {
   "cell_type": "code",
   "execution_count": null,
   "metadata": {},
   "outputs": [],
   "source": [
    "import argparse\n",
    "import faiss\n",
    "import numpy as np\n",
    "import pandas as pd\n",
    "import h5py\n",
    "import torch\n",
    "import os\n",
    "import subprocess\n",
    "import cirtorch\n",
    "from src import utils\n",
    "from sklearn.decomposition import PCA\n",
    "\n",
    "file_names = [\n",
    "    '../experiments/v7/feats_ms_flip_M_ep4_batch_size-32_epochs-5_pooling-G,G,G,G.h5',\n",
    "    '../experiments/v9/feats_index_0_ms_M_ep4_batch_size-32_model_name-se_resnext101_32x4d_pooling-GeM.h5',\n",
    "]\n",
    "weights = [\n",
    "    1.0,\n",
    "    0.7,\n",
    "]\n",
    "setting = 'fish_se-resnext_concat_baseline'\n",
    "os.environ['CUDA_VISIBLE_DEVICES'] = '0,1,2,3'\n",
    "topk = 100\n",
    "qe_topk = 10\n",
    "n_iter = 2\n",
    "\n",
    "ids_index = []\n",
    "feats_index = []\n",
    "ids_test = []\n",
    "feats_test = []\n",
    "\n",
    "for file_name, w in zip(file_names, weights):\n",
    "    with h5py.File(file_name, 'r') as f:\n",
    "        ids_index.append(f['ids_index'][()].astype(str))\n",
    "        feats_index.append(f['feats_index'][()] * w)\n",
    "        ids_test.append(f['ids_test'][()].astype(str))\n",
    "        feats_test.append(f['feats_test'][()] * w)\n",
    "\n",
    "for i in range(len(file_names)):\n",
    "    order = np.argsort(ids_index[i])\n",
    "    if i == len(file_names) - 1:\n",
    "        ids_index = ids_index[i][order]\n",
    "    feats_index[i] = feats_index[i][order]\n",
    "    order = np.argsort(ids_test[i])\n",
    "    if i == len(file_names) - 1:\n",
    "        ids_test = ids_test[i][order]\n",
    "    feats_test[i] = feats_test[i][order]\n",
    "    \n",
    "feats_index = np.concatenate(feats_index, axis=1)\n",
    "feats_test = np.concatenate(feats_test, axis=1)\n",
    "\n",
    "subm = pd.read_csv('../input/retrieval_sample_submission.csv')[['id']]\n",
    "retrieval_result = pd.DataFrame(ids_test, columns=['id'])\n",
    "\n",
    "feats_test = utils.l2norm_numpy(feats_test.astype(np.float32))\n",
    "feats_index = utils.l2norm_numpy(feats_index.astype(np.float32))"
   ]
  },
  {
   "cell_type": "code",
   "execution_count": null,
   "metadata": {},
   "outputs": [],
   "source": [
    "# baseline\n",
    "print('build index...')\n",
    "cpu_index = faiss.IndexFlatL2(feats_index.shape[1])\n",
    "gpu_index = faiss.index_cpu_to_all_gpus(cpu_index)\n",
    "gpu_index.add(feats_index)\n",
    "dists, topk_idx = gpu_index.search(x=feats_test, k=topk)\n",
    "print('query search done.')\n",
    "\n",
    "retrieval_result['images'] = np.apply_along_axis(' '.join, axis=1, arr=ids_index[topk_idx])\n",
    "subm = subm.merge(retrieval_result, on='id', how='left')\n",
    "subm = subm.fillna(retrieval_result['images'].iloc[0])\n",
    "output_name = f'../output/{setting}.csv.gz'\n",
    "subm.to_csv(output_name, compression='gzip', index=False)\n",
    "print('saved to ' + output_name)\n",
    "\n",
    "cmd = f'kaggle c submit -c landmark-retrieval-2019 -f {output_name} -m \"\" '\n",
    "print(cmd)\n",
    "subprocess.run(cmd, shell=True)\n",
    "# kaggle c submit -c landmark-retrieval-2019 -f ../output/L2_class_topk-14938_lr-0.001_margin-0.3_use_fc-True.csv.gz -m '' &"
   ]
  },
  {
   "cell_type": "code",
   "execution_count": null,
   "metadata": {},
   "outputs": [],
   "source": [
    "# DBA including query\n",
    "feats_test_and_index = np.concatenate([feats_test, feats_index], axis=0)\n",
    "\n",
    "for i in range(n_iter):\n",
    "    print(f'[iter-{i}] start DBA...')    \n",
    "    cpu_index = faiss.IndexFlatL2(feats_test_and_index.shape[1])\n",
    "    co = faiss.GpuMultipleClonerOptions()\n",
    "    # co.useFloat16 = True\n",
    "    co.shard = True\n",
    "\n",
    "    vres = []\n",
    "    for _ in range(4):\n",
    "        res = faiss.StandardGpuResources()\n",
    "        vres.append(res)\n",
    "\n",
    "#     feats_test_and_index = np.concatenate([feats_test, feats_index], axis=0)\n",
    "    cpu_index = faiss.IndexFlatL2(feats_test_and_index.shape[1])\n",
    "    gpu_index = faiss.index_cpu_to_gpu_multiple_py(vres, cpu_index, co)\n",
    "    gpu_index.add(feats_test_and_index)\n",
    "    dists, topk_idx = gpu_index.search(x=feats_test_and_index, k=qe_topk)\n",
    "\n",
    "    weights = np.logspace(0, -1.5, qe_topk).reshape(1, qe_topk, 1).astype(np.float32)\n",
    "    feats_test_and_index = (feats_test_and_index[topk_idx] * weights).sum(axis=1)\n",
    "\n",
    "utils.l2norm_numpy(feats_test_and_index.astype(np.float32))\n",
    "feats_test, feats_index = np.split(feats_test_and_index, [len(feats_test)], axis=0)\n",
    "cpu_index = faiss.IndexFlatL2(feats_index.shape[1])\n",
    "gpu_index = faiss.index_cpu_to_all_gpus(cpu_index)\n",
    "gpu_index.add(feats_index)\n",
    "dists, topk_idx = gpu_index.search(x=feats_test, k=100)\n",
    "print('query search done.')\n",
    "\n",
    "retrieval_result['images'] = np.apply_along_axis(' '.join, axis=1, arr=ids_index[topk_idx])\n",
    "subm = subm.merge(retrieval_result, on='id', how='left')\n",
    "subm = subm.fillna(retrieval_result['images'].iloc[0])\n",
    "output_name = f'../output/{n_iter}xDBA_with-query_top{qe_topk}_{setting}.csv.gz'\n",
    "subm.to_csv(output_name, compression='gzip', index=False)\n",
    "print('saved to ' + output_name)\n",
    "\n",
    "cmd = f'kaggle c submit -c landmark-retrieval-2019 -f {output_name} -m \"\" '\n",
    "print(cmd)\n",
    "subprocess.run(cmd, shell=True)"
   ]
  },
  {
   "cell_type": "code",
   "execution_count": null,
   "metadata": {},
   "outputs": [],
   "source": []
  },
  {
   "cell_type": "code",
   "execution_count": null,
   "metadata": {},
   "outputs": [],
   "source": []
  },
  {
   "cell_type": "code",
   "execution_count": null,
   "metadata": {},
   "outputs": [],
   "source": []
  },
  {
   "cell_type": "code",
   "execution_count": 1,
   "metadata": {
    "ExecuteTime": {
     "end_time": "2019-06-03T21:02:57.970401Z",
     "start_time": "2019-06-03T21:02:44.176129Z"
    }
   },
   "outputs": [],
   "source": [
    "import argparse\n",
    "import faiss\n",
    "import numpy as np\n",
    "import pandas as pd\n",
    "import os\n",
    "import subprocess\n",
    "import tqdm\n",
    "from collections import Counter\n",
    "from src import utils\n",
    "\n",
    "topk = 100\n",
    "ROOT = '/opt/landmark/'\n",
    "\n",
    "test_dirs = [\n",
    "    ROOT + 'experiments/v19c/feats_test19_ms_L2_ep4_scaleup_ep3_freqthresh-2_loss-cosface_pooling-G,G,G,G_verifythresh-30/',\n",
    "    ROOT + 'experiments/v20c/feats_test19_ms_L2_ep5_augmentation-middle_epochs-7_freqthresh-3_loss-arcface_verifythresh-30/',\n",
    "    ROOT + 'experiments/v21c/feats_test19_ms_L2_ep6_scaleup_ep5_augmentation-middle_epochs-7_freqthresh-3_loss-arcface_verifythresh-30/',\n",
    "    ROOT + 'experiments/v22c/feats_test19_ms_L2_ep4_scaleup_ep3_base_margin-0.4_freqthresh-2_verifythresh-30/',\n",
    "    ROOT + 'experiments/v23c/feats_test19_ms_L2_ep6_scaleup_ep5_augmentation-middle_epochs-7_freqthresh-3_verifythresh-30/',\n",
    "    ROOT + 'experiments/v24c/feats_test19_ms_L2_ep5_augmentation-middle_epochs-7_freqthresh-3_loss-cosface_verifythresh-30/',\n",
    "]\n",
    "\n",
    "weights = [\n",
    "    0.5,\n",
    "    1.0,\n",
    "    1.0,\n",
    "    0.5,\n",
    "    1.0,\n",
    "    1.0,\n",
    "]  # intuition\n",
    "\n",
    "ids_test, feats_test = utils.prepare_ids_and_feats(test_dirs, weights, normalize=True)\n",
    "\n",
    "# train19_csv = pd.read_pickle('../input/train.pkl')[['id', 'landmark_id']].set_index('id').sort_index()\n",
    "# landmark_dict = train19_csv.to_dict()['landmark_id']\n",
    "\n",
    "co = faiss.GpuMultipleClonerOptions()\n",
    "co.shard = True\n",
    "# co.float16 = False\n",
    "\n",
    "vres = []\n",
    "for _ in range(4):\n",
    "    res = faiss.StandardGpuResources()\n",
    "    vres.append(res)\n",
    "\n",
    "subm = pd.read_csv('../output/stage2_submit_banthresh30_ens3_top3_DBAx1_v44r7.csv.gz')\n",
    "subm['landmark_id'], subm['score'] = list(zip(*subm['landmarks'].apply(lambda x: str(x).split(' '))))\n",
    "subm['score'] = subm['score'].astype(np.float32)\n",
    "subm = subm.sort_values('score', ascending=False).set_index('id')\n",
    "\n",
    "ban_thresh = 30\n",
    "freq = subm['landmark_id'].value_counts()\n",
    "ban_lids = freq[freq > ban_thresh].index\n",
    "\n",
    "is_ban = np.isin(ids_test, subm[subm['landmark_id'].isin(ban_lids)].index)\n",
    "ban_ids_test = ids_test[is_ban]\n",
    "not_ban_ids_test = ids_test[~is_ban]\n",
    "ban_feats_test = feats_test[is_ban]\n",
    "not_ban_feats_test = feats_test[~is_ban]\n",
    "\n",
    "print('build index...')\n",
    "cpu_index = faiss.IndexFlatL2(not_ban_feats_test.shape[1])\n",
    "gpu_index = faiss.index_cpu_to_gpu_multiple_py(vres, cpu_index, co)\n",
    "gpu_index.add(not_ban_feats_test)\n",
    "dists, topk_idx = gpu_index.search(x=ban_feats_test, k=100)\n",
    "print('query search done.')\n",
    "\n",
    "subm = pd.read_csv('../output/stage2_submit_banthresh30_ens3_top3_DBAx1_v44r7.csv.gz')\n",
    "subm['landmark_id'], subm['score'] = list(zip(*subm['landmarks'].apply(lambda x: str(x).split(' '))))\n",
    "subm['score'] = subm['score'].astype(np.float32)\n",
    "subm = subm.sort_values('score', ascending=False).set_index('id')\n",
    "\n",
    "new_ban_ids = np.unique(not_ban_ids_test[topk_idx[dists < 0.5]])\n",
    "subm.loc[new_ban_ids, 'landmarks'] = subm.loc[new_ban_ids, 'landmark_id'] + ' 0'\n",
    "# subm.loc[new_ban_ids, 'landmarks'] = subm.loc[new_ban_ids, 'landmark_id'] + ' ' + (subm.loc[new_ban_ids, 'score'] * 0.001).map(str)\n",
    "\n",
    "output_filename = '../output/l2dist_0.5.csv.gz'\n",
    "subm.reset_index()[['id', 'landmarks']].to_csv(output_filename, index=False, compression='gzip')"
   ]
  },
  {
   "cell_type": "code",
   "execution_count": 62,
   "metadata": {
    "ExecuteTime": {
     "end_time": "2019-06-03T21:54:22.334798Z",
     "start_time": "2019-06-03T21:54:05.313950Z"
    }
   },
   "outputs": [
    {
     "name": "stdout",
     "output_type": "stream",
     "text": [
      "100%|███████████████████████████████████████| 1.85M/1.85M [00:13<00:00, 145kB/s]\n",
      "Successfully submitted to Google Landmark Recognition 2019"
     ]
    }
   ],
   "source": [
    "!kaggle c submit -c landmark-recognition-2019 -m '' -f ../output/final_l2dist_0.5.csv.gz"
   ]
  },
  {
   "cell_type": "code",
   "execution_count": null,
   "metadata": {},
   "outputs": [],
   "source": []
  },
  {
   "cell_type": "code",
   "execution_count": null,
   "metadata": {},
   "outputs": [],
   "source": []
  }
 ],
 "metadata": {
  "kernelspec": {
   "display_name": "Python 3",
   "language": "python",
   "name": "python3"
  },
  "language_info": {
   "codemirror_mode": {
    "name": "ipython",
    "version": 3
   },
   "file_extension": ".py",
   "mimetype": "text/x-python",
   "name": "python",
   "nbconvert_exporter": "python",
   "pygments_lexer": "ipython3",
   "version": "3.6.8"
  },
  "toc": {
   "base_numbering": 1,
   "nav_menu": {},
   "number_sections": true,
   "sideBar": true,
   "skip_h1_title": false,
   "title_cell": "Table of Contents",
   "title_sidebar": "Contents",
   "toc_cell": false,
   "toc_position": {},
   "toc_section_display": true,
   "toc_window_display": false
  },
  "varInspector": {
   "cols": {
    "lenName": 16,
    "lenType": 16,
    "lenVar": 40
   },
   "kernels_config": {
    "python": {
     "delete_cmd_postfix": "",
     "delete_cmd_prefix": "del ",
     "library": "var_list.py",
     "varRefreshCmd": "print(var_dic_list())"
    },
    "r": {
     "delete_cmd_postfix": ") ",
     "delete_cmd_prefix": "rm(",
     "library": "var_list.r",
     "varRefreshCmd": "cat(var_dic_list()) "
    }
   },
   "types_to_exclude": [
    "module",
    "function",
    "builtin_function_or_method",
    "instance",
    "_Feature"
   ],
   "window_display": false
  }
 },
 "nbformat": 4,
 "nbformat_minor": 2
}
